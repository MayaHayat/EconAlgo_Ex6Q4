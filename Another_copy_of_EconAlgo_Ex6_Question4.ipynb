{
  "nbformat": 4,
  "nbformat_minor": 0,
  "metadata": {
    "colab": {
      "provenance": [],
      "authorship_tag": "ABX9TyPMqnDcEXf2cZuRCv+CRysC",
      "include_colab_link": true
    },
    "kernelspec": {
      "name": "python3",
      "display_name": "Python 3"
    },
    "language_info": {
      "name": "python"
    }
  },
  "cells": [
    {
      "cell_type": "markdown",
      "metadata": {
        "id": "view-in-github",
        "colab_type": "text"
      },
      "source": [
        "<a href=\"https://colab.research.google.com/github/MayaHayat/EconAlgo_Ex6Q4/blob/main/Another_copy_of_EconAlgo_Ex6_Question4.ipynb\" target=\"_parent\"><img src=\"https://colab.research.google.com/assets/colab-badge.svg\" alt=\"Open In Colab\"/></a>"
      ]
    },
    {
      "cell_type": "code",
      "execution_count": 126,
      "metadata": {
        "id": "UOVq-rpyQ6hA"
      },
      "outputs": [],
      "source": [
        "import networkx as nx\n",
        "import cvxpy\n",
        "import matplotlib.pyplot as plt\n",
        "import numpy as np\n",
        "import math\n",
        "import doctest"
      ]
    },
    {
      "cell_type": "markdown",
      "source": [
        "# Part A"
      ],
      "metadata": {
        "id": "Y3zCgJPICD51"
      }
    },
    {
      "cell_type": "code",
      "source": [
        "def get_player_room(node1, node2):\n",
        "  id1, id2 = int(node1.split('_')[-1]), int(node2.split('_')[-1])\n",
        "  if 'player' in node1:\n",
        "    return id1, id2\n",
        "  elif 'player' in node2:\n",
        "    return id2, id1\n",
        "  else:\n",
        "    print(\"Invalid node format:\", node1, node2)\n",
        "    exit(1)\n"
      ],
      "metadata": {
        "id": "vVmj5x1_1Lou"
      },
      "execution_count": 127,
      "outputs": []
    },
    {
      "cell_type": "code",
      "source": [
        "def find_rent_prices(valuations: list[list[float]], price):\n",
        "    \"\"\"\n",
        "    Finds the optimal room rents given player-room valuations and a total rental price.\n",
        "\n",
        "    Args:\n",
        "    - valuations (list[list[float]]): A 2D list representing the valuations of players for rooms.\n",
        "    - price (float): Total rental price.\n",
        "\n",
        "    Returns:\n",
        "    - G (nx.Graph): The bipartite graph representing the player-room matching.\n",
        "\n",
        "    Examples:\n",
        "    >>> G = find_rent_prices([[20,30,40],[40,30,20],[30,30,30]], 90)\n",
        "    Max matching {('room_2', 'player_0'), ('room_0', 'player_1'), ('player_2', 'room_1')}\n",
        "    {0: 2, 1: 0, 2: 1}\n",
        "    Status: optimal\n",
        "    Value: 0.0\n",
        "    rents: room_0=31.667, room_1=26.667, room_2=31.667\n",
        "\n",
        "    >>> G = find_rent_prices([[350,250,350],[600,400,400],[400,200,250]], 1000)\n",
        "    Max matching {('room_1', 'player_2'), ('player_0', 'room_2'), ('room_0', 'player_1')}\n",
        "    {2: 1, 0: 2, 1: 0}\n",
        "    Status: optimal\n",
        "    Value: 0.0\n",
        "    rents: room_0=439.085, room_1=239.085, room_2=321.831\n",
        "\n",
        "    >>> G = find_rent_prices([[10,140],[0,150]], 100)\n",
        "    Max matching {('room_1', 'player_1'), ('player_0', 'room_0')}\n",
        "    {1: 1, 0: 0}\n",
        "    Status: optimal\n",
        "    Value: 0.0\n",
        "    rents: room_0=-20.000, room_1=120.000\n",
        "\n",
        "    >>> G = find_rent_prices( [[20,130],[0,150]], 120)\n",
        "    Max matching {('room_1', 'player_1'), ('player_0', 'room_0')}\n",
        "    {1: 1, 0: 0}\n",
        "    Status: optimal\n",
        "    Value: 0.0\n",
        "    rents: room_0=-5.000, room_1=125.000\n",
        "\n",
        "    \"\"\"\n",
        "\n",
        "\n",
        "    G = nx.Graph()  # Create an undirected graph\n",
        "\n",
        "    num_players = len(valuations)\n",
        "    num_rooms = len(valuations[0])\n",
        "\n",
        "    # ------------------------------- Part 1: match rooms - players -------------------------------\n",
        "\n",
        "    # Add players and rooms as nodes\n",
        "    for i in range(num_players):\n",
        "        player_name = f\"player_{i}\"\n",
        "        #player_name = i\n",
        "        G.add_node(player_name, bipartite=0)\n",
        "\n",
        "    for j in range(num_rooms):\n",
        "        room_name = f\"room_{j}\"\n",
        "        #room_name = j\n",
        "        G.add_node(room_name, bipartite=1)\n",
        "\n",
        "    # Add edges with weights and named nodes\n",
        "    for i in range(num_players):\n",
        "        for j in range(num_rooms):\n",
        "            weight = valuations[i][j]\n",
        "            if weight > 0:\n",
        "                G.add_edge(f\"player_{i}\", f\"room_{j}\", weight=weight)\n",
        "\n",
        "    max_weight_matching = nx.max_weight_matching(G, maxcardinality=True)\n",
        "    print(\"Max matching\", max_weight_matching)\n",
        "\n",
        "    # Create a dict to store player-room assignments\n",
        "    matches = {}\n",
        "    for node1, node2 in max_weight_matching:\n",
        "      player_id, room_id = get_player_room(node1, node2)\n",
        "      matches[player_id] = room_id\n",
        "    print(matches)\n",
        "\n",
        "    # ------------------------------- Part 2 : set pricing -------------------------------\n",
        "    variables = [cvxpy.Variable() for _ in range(num_rooms)]\n",
        "    fixed_constraints = [sum(variables) == price]\n",
        "    for player_id in range(num_players):\n",
        "      matched_room_id = matches[player_id]\n",
        "      for room_id in range(num_rooms):\n",
        "        if matched_room_id == room_id:\n",
        "          continue\n",
        "        constraint = (valuations[player_id][matched_room_id] - variables[matched_room_id]) \\\n",
        "                    >= (valuations[player_id][room_id] - variables[room_id])\n",
        "\n",
        "        matched_room_id = matches[player_id]\n",
        "        fixed_constraints.append(constraint)\n",
        "\n",
        "    prob = cvxpy.Problem(cvxpy.Minimize(0), constraints=fixed_constraints)\n",
        "    prob.solve()\n",
        "    print(\"Status:\", prob.status)\n",
        "    print(\"Value:\", prob.value)\n",
        "\n",
        "    print('rents: ' + ', '.join(['room_{}={:.3f}'.format(room_id, variable.value) for room_id, variable in enumerate(variables)]))\n"
      ],
      "metadata": {
        "id": "L8xnwpnXZ9uN"
      },
      "execution_count": 128,
      "outputs": []
    },
    {
      "cell_type": "markdown",
      "source": [
        "# Part B"
      ],
      "metadata": {
        "id": "s3J526azCGpU"
      }
    },
    {
      "cell_type": "code",
      "source": [
        "def find_rent_with_nonnegative_prices(valuations: list[list[float]], price):\n",
        "    \"\"\"\n",
        "    Examples:\n",
        "    >>> G = find_rent_with_nonnegative_prices([[20,30,40],[40,30,20],[30,30,30]], 90)\n",
        "    Max matching {('room_2', 'player_0'), ('room_0', 'player_1'), ('player_2', 'room_1')}\n",
        "    {0: 2, 1: 0, 2: 1}\n",
        "    Status: optimal\n",
        "    Min price: 29.999999999415706\n",
        "    rents: room_0=30.000, room_1=30.000, room_2=30.000\n",
        "\n",
        "    >>> G = find_rent_with_nonnegative_prices([[10,140],[0,150]], 100)\n",
        "    Max matching {('room_1', 'player_1'), ('player_0', 'room_0')}\n",
        "    {1: 1, 0: 0}\n",
        "    Status: optimal\n",
        "    Min price: -15.000000005359155\n",
        "    rents: room_0=-15.000, room_1=115.000\n",
        "\n",
        "    >>> G = find_rent_with_nonnegative_prices([[20,130],[0,150]], 120)\n",
        "    Max matching {('room_1', 'player_1'), ('player_0', 'room_0')}\n",
        "    {1: 1, 0: 0}\n",
        "    Status: optimal\n",
        "    Min price: 4.999999994141455\n",
        "    rents: room_0=5.000, room_1=115.000\n",
        "\n",
        "    >>> G = find_rent_with_nonnegative_prices([[36,34,31,0],[31,36,33,0],[34,30,36,0],[32,33,35,0]], 100)\n",
        "    Max matching {('room_1', 'player_1'), ('room_2', 'player_2'), ('player_3', 'room_3'), ('room_0', 'player_0')}\n",
        "    {1: 1, 2: 2, 3: 3, 0: 0}\n",
        "    Status: optimal\n",
        "    Min price: -0.24999999998378383\n",
        "    rents: room_0=32.750, room_1=32.750, room_2=34.750, room_3=-0.250\n",
        "\n",
        "    \"\"\"\n",
        "\n",
        "    G = nx.Graph()  # Create an undirected graph\n",
        "\n",
        "    num_players = len(valuations)\n",
        "    num_rooms = len(valuations[0])\n",
        "\n",
        "    # ------------------------------- Part 1: match rooms - players -------------------------------\n",
        "\n",
        "    # Add players and rooms as nodes\n",
        "    for i in range(num_players):\n",
        "        player_name = f\"player_{i}\"\n",
        "        #player_name = i\n",
        "        G.add_node(player_name, bipartite=0)\n",
        "\n",
        "    for j in range(num_rooms):\n",
        "        room_name = f\"room_{j}\"\n",
        "        #room_name = j\n",
        "        G.add_node(room_name, bipartite=1)\n",
        "\n",
        "    # Add edges with weights and named nodes\n",
        "    for i in range(num_players):\n",
        "        for j in range(num_rooms):\n",
        "            weight = valuations[i][j]\n",
        "            if weight > 0:\n",
        "                G.add_edge(f\"player_{i}\", f\"room_{j}\", weight=weight)\n",
        "            else:\n",
        "                G.add_edge(f\"player_{i}\", f\"room_{j}\", weight=0)\n",
        "\n",
        "\n",
        "    max_weight_matching = nx.max_weight_matching(G, maxcardinality=True) # we must add the maxcardinality so it matches all players to room even if it won't add to max value (valuation is 0)\n",
        "    print(\"Max matching\", max_weight_matching)\n",
        "\n",
        "    # Create a dict to store player-room assignments\n",
        "    matches = {}\n",
        "    for node1, node2 in max_weight_matching:\n",
        "      player_id, room_id = get_player_room(node1, node2)\n",
        "      matches[player_id] = room_id\n",
        "    print(matches)\n",
        "\n",
        "    # ------------------------------- Part 2 : set pricing -------------------------------\n",
        "    variables = [cvxpy.Variable() for _ in range(num_rooms)]\n",
        "    min_price = cvxpy.Variable() # set a min price variable so we can check if >  0\n",
        "\n",
        "    fixed_constraints = [sum(variables) == price] +\\\n",
        "                        [variables[i] >= min_price for i in range(len(variables))]\n",
        "\n",
        "    for player_id in range(num_players):\n",
        "      matched_room_id = matches[player_id]\n",
        "      for room_id in range(num_rooms):\n",
        "        if matched_room_id == room_id:\n",
        "          continue\n",
        "        constraint = (valuations[player_id][matched_room_id] - variables[matched_room_id]) \\\n",
        "                    >= (valuations[player_id][room_id] - variables[room_id])\n",
        "\n",
        "        matched_room_id = matches[player_id]\n",
        "        fixed_constraints.append(constraint)\n",
        "\n",
        "    prob = cvxpy.Problem(cvxpy.Maximize(min_price), constraints=fixed_constraints)\n",
        "    prob.solve()\n",
        "    print(\"Status:\", prob.status)\n",
        "    print(\"Min price:\" , min_price.value)\n",
        "\n",
        "    print('rents: ' + ', '.join(['room_{}={:.3f}'.format(room_id, variable.value) for room_id, variable in enumerate(variables)]))\n"
      ],
      "metadata": {
        "id": "oq6i_Rb2UzB2"
      },
      "execution_count": 139,
      "outputs": []
    },
    {
      "cell_type": "code",
      "source": [
        "if __name__ == \"__main__\":\n",
        "  doctest.testmod()"
      ],
      "metadata": {
        "id": "Fr7zdQAzVxj_"
      },
      "execution_count": 140,
      "outputs": []
    },
    {
      "cell_type": "code",
      "source": [],
      "metadata": {
        "id": "_E25v3ArXr8y"
      },
      "execution_count": null,
      "outputs": []
    }
  ]
}